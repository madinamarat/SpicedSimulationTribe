{
 "cells": [
  {
   "cell_type": "markdown",
   "metadata": {},
   "source": [
    "# Data Exploration, week 08 project"
   ]
  },
  {
   "cell_type": "code",
   "execution_count": 1,
   "metadata": {},
   "outputs": [],
   "source": [
    "import pandas as pd\n",
    "import numpy as np\n",
    "from matplotlib import pyplot as plt\n",
    "import datetime\n",
    "\n",
    "plt.rcParams['figure.figsize'] = (10,6)"
   ]
  },
  {
   "cell_type": "code",
   "execution_count": 2,
   "metadata": {},
   "outputs": [],
   "source": [
    "#monday = pd.read_csv('data/monday.csv', delimiter=';')\n",
    "#tuesday = pd.read_csv('data/tuesday.csv', delimiter=';')\n",
    "#wednesday = pd.read_csv('data/wednesday.csv', delimiter=';')\n",
    "#thursday = pd.read_csv('data/thursday.csv', delimiter=';')\n",
    "#friday = pd.read_csv('data/friday.csv', delimiter=';')\n",
    "df = pd.read_csv('data/wednesday.csv', delimiter=';')"
   ]
  },
  {
   "cell_type": "code",
   "execution_count": 3,
   "metadata": {},
   "outputs": [
    {
     "data": {
      "text/html": [
       "<div>\n",
       "<style scoped>\n",
       "    .dataframe tbody tr th:only-of-type {\n",
       "        vertical-align: middle;\n",
       "    }\n",
       "\n",
       "    .dataframe tbody tr th {\n",
       "        vertical-align: top;\n",
       "    }\n",
       "\n",
       "    .dataframe thead th {\n",
       "        text-align: right;\n",
       "    }\n",
       "</style>\n",
       "<table border=\"1\" class=\"dataframe\">\n",
       "  <thead>\n",
       "    <tr style=\"text-align: right;\">\n",
       "      <th></th>\n",
       "      <th>timestamp</th>\n",
       "      <th>customer_no</th>\n",
       "      <th>location</th>\n",
       "    </tr>\n",
       "  </thead>\n",
       "  <tbody>\n",
       "    <tr>\n",
       "      <th>0</th>\n",
       "      <td>2019-09-04 07:00:00</td>\n",
       "      <td>1</td>\n",
       "      <td>fruit</td>\n",
       "    </tr>\n",
       "    <tr>\n",
       "      <th>1</th>\n",
       "      <td>2019-09-04 07:00:00</td>\n",
       "      <td>2</td>\n",
       "      <td>dairy</td>\n",
       "    </tr>\n",
       "    <tr>\n",
       "      <th>2</th>\n",
       "      <td>2019-09-04 07:00:00</td>\n",
       "      <td>3</td>\n",
       "      <td>fruit</td>\n",
       "    </tr>\n",
       "    <tr>\n",
       "      <th>3</th>\n",
       "      <td>2019-09-04 07:00:00</td>\n",
       "      <td>4</td>\n",
       "      <td>fruit</td>\n",
       "    </tr>\n",
       "    <tr>\n",
       "      <th>4</th>\n",
       "      <td>2019-09-04 07:00:00</td>\n",
       "      <td>5</td>\n",
       "      <td>dairy</td>\n",
       "    </tr>\n",
       "  </tbody>\n",
       "</table>\n",
       "</div>"
      ],
      "text/plain": [
       "             timestamp  customer_no location\n",
       "0  2019-09-04 07:00:00            1    fruit\n",
       "1  2019-09-04 07:00:00            2    dairy\n",
       "2  2019-09-04 07:00:00            3    fruit\n",
       "3  2019-09-04 07:00:00            4    fruit\n",
       "4  2019-09-04 07:00:00            5    dairy"
      ]
     },
     "execution_count": 3,
     "metadata": {},
     "output_type": "execute_result"
    }
   ],
   "source": [
    "df.head()"
   ]
  },
  {
   "cell_type": "code",
   "execution_count": 4,
   "metadata": {},
   "outputs": [
    {
     "data": {
      "text/plain": [
       "(5050, 3)"
      ]
     },
     "execution_count": 4,
     "metadata": {},
     "output_type": "execute_result"
    }
   ],
   "source": [
    "df.shape"
   ]
  },
  {
   "cell_type": "code",
   "execution_count": 5,
   "metadata": {},
   "outputs": [
    {
     "name": "stdout",
     "output_type": "stream",
     "text": [
      "<class 'pandas.core.frame.DataFrame'>\n",
      "RangeIndex: 5050 entries, 0 to 5049\n",
      "Data columns (total 3 columns):\n",
      " #   Column       Non-Null Count  Dtype \n",
      "---  ------       --------------  ----- \n",
      " 0   timestamp    5050 non-null   object\n",
      " 1   customer_no  5050 non-null   int64 \n",
      " 2   location     5050 non-null   object\n",
      "dtypes: int64(1), object(2)\n",
      "memory usage: 118.5+ KB\n"
     ]
    }
   ],
   "source": [
    "df.info()"
   ]
  },
  {
   "cell_type": "code",
   "execution_count": 6,
   "metadata": {},
   "outputs": [],
   "source": [
    "def ts_to_datetime_index(df):\n",
    "    df.copy()\n",
    "    \n",
    "    df[\"timestamp\"] = pd.to_datetime(df[\"timestamp\"])\n",
    "    \n",
    "    return df"
   ]
  },
  {
   "cell_type": "code",
   "execution_count": 7,
   "metadata": {
    "scrolled": true
   },
   "outputs": [],
   "source": [
    "df2 = ts_to_datetime_index(df)"
   ]
  },
  {
   "cell_type": "code",
   "execution_count": 8,
   "metadata": {},
   "outputs": [],
   "source": [
    "def add_prev_loc_and_time_spent_columns(df):\n",
    "    '''\n",
    "    Adds a column to a single-day supermarket dataset dataframe stating if the previous location of the row\n",
    "    to show where the respective customer is coming from.\n",
    "    \n",
    "    Parameters:\n",
    "    ----------\n",
    "    DataFrame (Single-day; does not work with a combine dataset for the whole week!)\n",
    "    '''\n",
    "    \n",
    "    df = df.copy()\n",
    "    \n",
    "    customer_prev_loc = {}\n",
    "    previous_location = []\n",
    "    time_spent = []\n",
    "    for row in df.index:\n",
    "        cust_no = df.loc[row]['customer_no']\n",
    "        new_location = df.loc[row]['location']\n",
    "        time_entered = df.loc[row]['timestamp']\n",
    "        \n",
    "        if cust_no not in customer_prev_loc:\n",
    "            customer_prev_loc[cust_no] = [new_location, time_entered]\n",
    "            previous_location.append('first')\n",
    "            time_spent.append(0)\n",
    "        else:\n",
    "            old_location = customer_prev_loc[cust_no][0]\n",
    "            old_time_entered = customer_prev_loc[cust_no][1]\n",
    "            \n",
    "            time_delta = time_entered - old_time_entered\n",
    "            minutes_spent_at_previous = int(time_delta.total_seconds() / 60) % 60\n",
    "            \n",
    "            previous_location.append(old_location)\n",
    "            time_spent.append(minutes_spent_at_previous)\n",
    "            customer_prev_loc[cust_no] = [new_location, time_entered]\n",
    "    \n",
    "    df['previous_location'] = previous_location\n",
    "    df['min_spent_at_previous'] = time_spent\n",
    "    \n",
    "    return df"
   ]
  },
  {
   "cell_type": "code",
   "execution_count": 9,
   "metadata": {},
   "outputs": [
    {
     "data": {
      "text/html": [
       "<div>\n",
       "<style scoped>\n",
       "    .dataframe tbody tr th:only-of-type {\n",
       "        vertical-align: middle;\n",
       "    }\n",
       "\n",
       "    .dataframe tbody tr th {\n",
       "        vertical-align: top;\n",
       "    }\n",
       "\n",
       "    .dataframe thead th {\n",
       "        text-align: right;\n",
       "    }\n",
       "</style>\n",
       "<table border=\"1\" class=\"dataframe\">\n",
       "  <thead>\n",
       "    <tr style=\"text-align: right;\">\n",
       "      <th></th>\n",
       "      <th>timestamp</th>\n",
       "      <th>customer_no</th>\n",
       "      <th>location</th>\n",
       "      <th>previous_location</th>\n",
       "      <th>min_spent_at_previous</th>\n",
       "    </tr>\n",
       "  </thead>\n",
       "  <tbody>\n",
       "    <tr>\n",
       "      <th>0</th>\n",
       "      <td>2019-09-04 07:00:00</td>\n",
       "      <td>1</td>\n",
       "      <td>fruit</td>\n",
       "      <td>first</td>\n",
       "      <td>0</td>\n",
       "    </tr>\n",
       "    <tr>\n",
       "      <th>1</th>\n",
       "      <td>2019-09-04 07:00:00</td>\n",
       "      <td>2</td>\n",
       "      <td>dairy</td>\n",
       "      <td>first</td>\n",
       "      <td>0</td>\n",
       "    </tr>\n",
       "    <tr>\n",
       "      <th>2</th>\n",
       "      <td>2019-09-04 07:00:00</td>\n",
       "      <td>3</td>\n",
       "      <td>fruit</td>\n",
       "      <td>first</td>\n",
       "      <td>0</td>\n",
       "    </tr>\n",
       "    <tr>\n",
       "      <th>3</th>\n",
       "      <td>2019-09-04 07:00:00</td>\n",
       "      <td>4</td>\n",
       "      <td>fruit</td>\n",
       "      <td>first</td>\n",
       "      <td>0</td>\n",
       "    </tr>\n",
       "    <tr>\n",
       "      <th>4</th>\n",
       "      <td>2019-09-04 07:00:00</td>\n",
       "      <td>5</td>\n",
       "      <td>dairy</td>\n",
       "      <td>first</td>\n",
       "      <td>0</td>\n",
       "    </tr>\n",
       "    <tr>\n",
       "      <th>...</th>\n",
       "      <td>...</td>\n",
       "      <td>...</td>\n",
       "      <td>...</td>\n",
       "      <td>...</td>\n",
       "      <td>...</td>\n",
       "    </tr>\n",
       "    <tr>\n",
       "      <th>5045</th>\n",
       "      <td>2019-09-04 21:48:00</td>\n",
       "      <td>1528</td>\n",
       "      <td>spices</td>\n",
       "      <td>drinks</td>\n",
       "      <td>3</td>\n",
       "    </tr>\n",
       "    <tr>\n",
       "      <th>5046</th>\n",
       "      <td>2019-09-04 21:49:00</td>\n",
       "      <td>1520</td>\n",
       "      <td>dairy</td>\n",
       "      <td>spices</td>\n",
       "      <td>1</td>\n",
       "    </tr>\n",
       "    <tr>\n",
       "      <th>5047</th>\n",
       "      <td>2019-09-04 21:49:00</td>\n",
       "      <td>1529</td>\n",
       "      <td>dairy</td>\n",
       "      <td>fruit</td>\n",
       "      <td>2</td>\n",
       "    </tr>\n",
       "    <tr>\n",
       "      <th>5048</th>\n",
       "      <td>2019-09-04 21:49:00</td>\n",
       "      <td>1530</td>\n",
       "      <td>fruit</td>\n",
       "      <td>spices</td>\n",
       "      <td>2</td>\n",
       "    </tr>\n",
       "    <tr>\n",
       "      <th>5049</th>\n",
       "      <td>2019-09-04 21:49:00</td>\n",
       "      <td>1531</td>\n",
       "      <td>checkout</td>\n",
       "      <td>drinks</td>\n",
       "      <td>3</td>\n",
       "    </tr>\n",
       "  </tbody>\n",
       "</table>\n",
       "<p>5050 rows × 5 columns</p>\n",
       "</div>"
      ],
      "text/plain": [
       "               timestamp  customer_no  location previous_location  \\\n",
       "0    2019-09-04 07:00:00            1     fruit             first   \n",
       "1    2019-09-04 07:00:00            2     dairy             first   \n",
       "2    2019-09-04 07:00:00            3     fruit             first   \n",
       "3    2019-09-04 07:00:00            4     fruit             first   \n",
       "4    2019-09-04 07:00:00            5     dairy             first   \n",
       "...                  ...          ...       ...               ...   \n",
       "5045 2019-09-04 21:48:00         1528    spices            drinks   \n",
       "5046 2019-09-04 21:49:00         1520     dairy            spices   \n",
       "5047 2019-09-04 21:49:00         1529     dairy             fruit   \n",
       "5048 2019-09-04 21:49:00         1530     fruit            spices   \n",
       "5049 2019-09-04 21:49:00         1531  checkout            drinks   \n",
       "\n",
       "      min_spent_at_previous  \n",
       "0                         0  \n",
       "1                         0  \n",
       "2                         0  \n",
       "3                         0  \n",
       "4                         0  \n",
       "...                     ...  \n",
       "5045                      3  \n",
       "5046                      1  \n",
       "5047                      2  \n",
       "5048                      2  \n",
       "5049                      3  \n",
       "\n",
       "[5050 rows x 5 columns]"
      ]
     },
     "execution_count": 9,
     "metadata": {},
     "output_type": "execute_result"
    }
   ],
   "source": [
    "df2 = add_prev_loc_and_time_spent_columns(df2)\n",
    "df2"
   ]
  },
  {
   "cell_type": "markdown",
   "metadata": {},
   "source": [
    "#### Calculate the total number of customers in each section"
   ]
  },
  {
   "cell_type": "code",
   "execution_count": 10,
   "metadata": {},
   "outputs": [
    {
     "data": {
      "text/plain": [
       "checkout    1526\n",
       "fruit       1043\n",
       "dairy        976\n",
       "drinks       775\n",
       "spices       730\n",
       "Name: location, dtype: int64"
      ]
     },
     "execution_count": 10,
     "metadata": {},
     "output_type": "execute_result"
    }
   ],
   "source": [
    "df2['location'].value_counts()"
   ]
  },
  {
   "cell_type": "code",
   "execution_count": 11,
   "metadata": {},
   "outputs": [
    {
     "data": {
      "text/plain": [
       "array([1531], dtype=int64)"
      ]
     },
     "execution_count": 11,
     "metadata": {},
     "output_type": "execute_result"
    }
   ],
   "source": [
    "df2['customer_no'].unique()[-1:]"
   ]
  },
  {
   "cell_type": "markdown",
   "metadata": {},
   "source": [
    "==> 5 customers are not accounted for at checkout"
   ]
  },
  {
   "cell_type": "code",
   "execution_count": 12,
   "metadata": {
    "scrolled": true
   },
   "outputs": [
    {
     "data": {
      "text/plain": [
       "<matplotlib.axes._subplots.AxesSubplot at 0x1a110ab3250>"
      ]
     },
     "execution_count": 12,
     "metadata": {},
     "output_type": "execute_result"
    },
    {
     "data": {
      "image/png": "[encoded data removed]",
      "text/plain": [
       "<Figure size 720x432 with 1 Axes>"
      ]
     },
     "metadata": {
      "needs_background": "light"
     },
     "output_type": "display_data"
    }
   ],
   "source": [
    "df['location'].value_counts().plot.bar()"
   ]
  },
  {
   "cell_type": "markdown",
   "metadata": {},
   "source": [
    "#### Display the number of customers at checkout over time"
   ]
  },
  {
   "cell_type": "code",
   "execution_count": 13,
   "metadata": {},
   "outputs": [
    {
     "data": {
      "text/plain": [
       "timestamp\n",
       "2019-09-04 07:01:00    1\n",
       "2019-09-04 07:02:00    2\n",
       "2019-09-04 07:03:00    1\n",
       "2019-09-04 07:04:00    1\n",
       "2019-09-04 07:05:00    1\n",
       "                      ..\n",
       "2019-09-04 21:45:00    3\n",
       "2019-09-04 21:46:00    1\n",
       "2019-09-04 21:47:00    1\n",
       "2019-09-04 21:48:00    1\n",
       "2019-09-04 21:49:00    1\n",
       "Name: customer_no, Length: 699, dtype: int64"
      ]
     },
     "execution_count": 13,
     "metadata": {},
     "output_type": "execute_result"
    }
   ],
   "source": [
    "df[df['location'] == 'checkout'].groupby(['timestamp'])['customer_no'].count()"
   ]
  },
  {
   "cell_type": "code",
   "execution_count": 14,
   "metadata": {},
   "outputs": [
    {
     "data": {
      "text/plain": [
       "<matplotlib.axes._subplots.AxesSubplot at 0x1a110b5d760>"
      ]
     },
     "execution_count": 14,
     "metadata": {},
     "output_type": "execute_result"
    },
    {
     "data": {
      "image/png": "[encoded data removed]",
      "text/plain": [
       "<Figure size 720x432 with 1 Axes>"
      ]
     },
     "metadata": {
      "needs_background": "light"
     },
     "output_type": "display_data"
    }
   ],
   "source": [
    "df[df['location'] == 'checkout'].groupby(['timestamp'])['customer_no'].count().plot()"
   ]
  },
  {
   "cell_type": "markdown",
   "metadata": {},
   "source": [
    "#### Calculate the time each customer spent in the market"
   ]
  },
  {
   "cell_type": "code",
   "execution_count": 15,
   "metadata": {},
   "outputs": [
    {
     "data": {
      "text/plain": [
       "customer_no\n",
       "1        2\n",
       "2        6\n",
       "3       11\n",
       "4        3\n",
       "5        1\n",
       "        ..\n",
       "1527     3\n",
       "1528     3\n",
       "1529     4\n",
       "1530     3\n",
       "1531     3\n",
       "Name: min_spent_at_previous, Length: 1531, dtype: int64"
      ]
     },
     "execution_count": 15,
     "metadata": {},
     "output_type": "execute_result"
    }
   ],
   "source": [
    "df2.groupby('customer_no')['min_spent_at_previous'].sum()"
   ]
  },
  {
   "cell_type": "code",
   "execution_count": 16,
   "metadata": {},
   "outputs": [
    {
     "data": {
      "text/plain": [
       "<matplotlib.axes._subplots.AxesSubplot at 0x1a110c3e8e0>"
      ]
     },
     "execution_count": 16,
     "metadata": {},
     "output_type": "execute_result"
    },
    {
     "data": {
      "image/png": "[encoded data removed]",
      "text/plain": [
       "<Figure size 720x432 with 1 Axes>"
      ]
     },
     "metadata": {
      "needs_background": "light"
     },
     "output_type": "display_data"
    }
   ],
   "source": [
    "df2.groupby('customer_no')['min_spent_at_previous'].sum().plot.hist(bins=20)"
   ]
  },
  {
   "cell_type": "markdown",
   "metadata": {},
   "source": [
    "#### Calculate the total number of customers in the supermarket over time."
   ]
  },
  {
   "cell_type": "code",
   "execution_count": 17,
   "metadata": {},
   "outputs": [],
   "source": [
    "def add_in_store_count_col(df):\n",
    "    df = df.copy()\n",
    "    \n",
    "    customers_in_store = []\n",
    "    count = 0\n",
    "    for row in df.index:\n",
    "        if df.loc[row]['previous_location'] == 'first':\n",
    "            count += 1\n",
    "        if df.loc[row]['location'] == 'checkout':\n",
    "            count -= 1\n",
    "        customers_in_store.append(count)\n",
    "        \n",
    "    df['customers_in_store'] = customers_in_store\n",
    "    \n",
    "    return df"
   ]
  },
  {
   "cell_type": "code",
   "execution_count": 18,
   "metadata": {
    "scrolled": true
   },
   "outputs": [
    {
     "data": {
      "text/html": [
       "<div>\n",
       "<style scoped>\n",
       "    .dataframe tbody tr th:only-of-type {\n",
       "        vertical-align: middle;\n",
       "    }\n",
       "\n",
       "    .dataframe tbody tr th {\n",
       "        vertical-align: top;\n",
       "    }\n",
       "\n",
       "    .dataframe thead th {\n",
       "        text-align: right;\n",
       "    }\n",
       "</style>\n",
       "<table border=\"1\" class=\"dataframe\">\n",
       "  <thead>\n",
       "    <tr style=\"text-align: right;\">\n",
       "      <th></th>\n",
       "      <th>timestamp</th>\n",
       "      <th>customer_no</th>\n",
       "      <th>location</th>\n",
       "      <th>previous_location</th>\n",
       "      <th>min_spent_at_previous</th>\n",
       "      <th>customers_in_store</th>\n",
       "    </tr>\n",
       "  </thead>\n",
       "  <tbody>\n",
       "    <tr>\n",
       "      <th>0</th>\n",
       "      <td>2019-09-04 07:00:00</td>\n",
       "      <td>1</td>\n",
       "      <td>fruit</td>\n",
       "      <td>first</td>\n",
       "      <td>0</td>\n",
       "      <td>1</td>\n",
       "    </tr>\n",
       "    <tr>\n",
       "      <th>1</th>\n",
       "      <td>2019-09-04 07:00:00</td>\n",
       "      <td>2</td>\n",
       "      <td>dairy</td>\n",
       "      <td>first</td>\n",
       "      <td>0</td>\n",
       "      <td>2</td>\n",
       "    </tr>\n",
       "    <tr>\n",
       "      <th>2</th>\n",
       "      <td>2019-09-04 07:00:00</td>\n",
       "      <td>3</td>\n",
       "      <td>fruit</td>\n",
       "      <td>first</td>\n",
       "      <td>0</td>\n",
       "      <td>3</td>\n",
       "    </tr>\n",
       "    <tr>\n",
       "      <th>3</th>\n",
       "      <td>2019-09-04 07:00:00</td>\n",
       "      <td>4</td>\n",
       "      <td>fruit</td>\n",
       "      <td>first</td>\n",
       "      <td>0</td>\n",
       "      <td>4</td>\n",
       "    </tr>\n",
       "    <tr>\n",
       "      <th>4</th>\n",
       "      <td>2019-09-04 07:00:00</td>\n",
       "      <td>5</td>\n",
       "      <td>dairy</td>\n",
       "      <td>first</td>\n",
       "      <td>0</td>\n",
       "      <td>5</td>\n",
       "    </tr>\n",
       "    <tr>\n",
       "      <th>...</th>\n",
       "      <td>...</td>\n",
       "      <td>...</td>\n",
       "      <td>...</td>\n",
       "      <td>...</td>\n",
       "      <td>...</td>\n",
       "      <td>...</td>\n",
       "    </tr>\n",
       "    <tr>\n",
       "      <th>5045</th>\n",
       "      <td>2019-09-04 21:48:00</td>\n",
       "      <td>1528</td>\n",
       "      <td>spices</td>\n",
       "      <td>drinks</td>\n",
       "      <td>3</td>\n",
       "      <td>6</td>\n",
       "    </tr>\n",
       "    <tr>\n",
       "      <th>5046</th>\n",
       "      <td>2019-09-04 21:49:00</td>\n",
       "      <td>1520</td>\n",
       "      <td>dairy</td>\n",
       "      <td>spices</td>\n",
       "      <td>1</td>\n",
       "      <td>6</td>\n",
       "    </tr>\n",
       "    <tr>\n",
       "      <th>5047</th>\n",
       "      <td>2019-09-04 21:49:00</td>\n",
       "      <td>1529</td>\n",
       "      <td>dairy</td>\n",
       "      <td>fruit</td>\n",
       "      <td>2</td>\n",
       "      <td>6</td>\n",
       "    </tr>\n",
       "    <tr>\n",
       "      <th>5048</th>\n",
       "      <td>2019-09-04 21:49:00</td>\n",
       "      <td>1530</td>\n",
       "      <td>fruit</td>\n",
       "      <td>spices</td>\n",
       "      <td>2</td>\n",
       "      <td>6</td>\n",
       "    </tr>\n",
       "    <tr>\n",
       "      <th>5049</th>\n",
       "      <td>2019-09-04 21:49:00</td>\n",
       "      <td>1531</td>\n",
       "      <td>checkout</td>\n",
       "      <td>drinks</td>\n",
       "      <td>3</td>\n",
       "      <td>5</td>\n",
       "    </tr>\n",
       "  </tbody>\n",
       "</table>\n",
       "<p>5050 rows × 6 columns</p>\n",
       "</div>"
      ],
      "text/plain": [
       "               timestamp  customer_no  location previous_location  \\\n",
       "0    2019-09-04 07:00:00            1     fruit             first   \n",
       "1    2019-09-04 07:00:00            2     dairy             first   \n",
       "2    2019-09-04 07:00:00            3     fruit             first   \n",
       "3    2019-09-04 07:00:00            4     fruit             first   \n",
       "4    2019-09-04 07:00:00            5     dairy             first   \n",
       "...                  ...          ...       ...               ...   \n",
       "5045 2019-09-04 21:48:00         1528    spices            drinks   \n",
       "5046 2019-09-04 21:49:00         1520     dairy            spices   \n",
       "5047 2019-09-04 21:49:00         1529     dairy             fruit   \n",
       "5048 2019-09-04 21:49:00         1530     fruit            spices   \n",
       "5049 2019-09-04 21:49:00         1531  checkout            drinks   \n",
       "\n",
       "      min_spent_at_previous  customers_in_store  \n",
       "0                         0                   1  \n",
       "1                         0                   2  \n",
       "2                         0                   3  \n",
       "3                         0                   4  \n",
       "4                         0                   5  \n",
       "...                     ...                 ...  \n",
       "5045                      3                   6  \n",
       "5046                      1                   6  \n",
       "5047                      2                   6  \n",
       "5048                      2                   6  \n",
       "5049                      3                   5  \n",
       "\n",
       "[5050 rows x 6 columns]"
      ]
     },
     "execution_count": 18,
     "metadata": {},
     "output_type": "execute_result"
    }
   ],
   "source": [
    "df2 = add_in_store_count_col(df2)\n",
    "df2"
   ]
  },
  {
   "cell_type": "code",
   "execution_count": 19,
   "metadata": {},
   "outputs": [
    {
     "data": {
      "text/plain": [
       "<matplotlib.axes._subplots.AxesSubplot at 0x1a110c926a0>"
      ]
     },
     "execution_count": 19,
     "metadata": {},
     "output_type": "execute_result"
    },
    {
     "data": {
      "image/png": "[encoded data removed]",
      "text/plain": [
       "<Figure size 720x432 with 1 Axes>"
      ]
     },
     "metadata": {
      "needs_background": "light"
     },
     "output_type": "display_data"
    }
   ],
   "source": [
    "df2.set_index('timestamp')['customers_in_store'].plot()"
   ]
  },
  {
   "cell_type": "markdown",
   "metadata": {},
   "source": [
    "#### Calculate the total number of customers in each section over time"
   ]
  },
  {
   "cell_type": "code",
   "execution_count": 20,
   "metadata": {},
   "outputs": [],
   "source": [
    "def add_customer_in_locations_cols(df):    \n",
    "    '''\n",
    "    This function adds columns for each location (except checkout) \n",
    "    with the count of customers currently in them at each row.\n",
    "    '''\n",
    "    \n",
    "    \n",
    "    df = df.copy()\n",
    "    \n",
    "    customers_in_fruit = []\n",
    "    customers_in_dairy = []\n",
    "    customers_in_drinks = []\n",
    "    customers_in_spices = []\n",
    "    customers_in_checkout = []\n",
    "\n",
    "    fruit_count = 0\n",
    "    dairy_count = 0\n",
    "    drinks_count = 0\n",
    "    spices_count = 0\n",
    "\n",
    "\n",
    "\n",
    "    for row in df.index:\n",
    "        if df.loc[row]['location'] == 'fruit':\n",
    "            fruit_count += 1\n",
    "        if df.loc[row]['location'] == 'dairy':\n",
    "            dairy_count  += 1\n",
    "        if df.loc[row]['location'] == 'drinks':\n",
    "            drinks_count  += 1\n",
    "        if df.loc[row]['location'] == 'spices':\n",
    "            spices_count  += 1\n",
    "\n",
    "        if df.loc[row]['previous_location'] == 'fruit':\n",
    "            fruit_count  -= 1\n",
    "        if df.loc[row]['previous_location'] == 'dairy':\n",
    "            dairy_count  -= 1\n",
    "        if df.loc[row]['previous_location'] == 'drinks':\n",
    "            drinks_count  -= 1\n",
    "        if df.loc[row]['previous_location'] == 'spices':\n",
    "            spices_count  -= 1\n",
    "\n",
    "\n",
    "        customers_in_fruit.append(fruit_count)\n",
    "        customers_in_dairy.append(dairy_count)\n",
    "        customers_in_drinks.append(drinks_count)\n",
    "        customers_in_spices.append(spices_count)\n",
    "\n",
    "    df['customers_in_fruit'] = customers_in_fruit\n",
    "    df['customers_in_dairy'] = customers_in_dairy\n",
    "    df['customers_in_drinks'] = customers_in_drinks\n",
    "    df['customers_in_spices'] = customers_in_spices\n",
    "\n",
    "    return df"
   ]
  },
  {
   "cell_type": "code",
   "execution_count": 21,
   "metadata": {
    "scrolled": true
   },
   "outputs": [
    {
     "data": {
      "text/html": [
       "<div>\n",
       "<style scoped>\n",
       "    .dataframe tbody tr th:only-of-type {\n",
       "        vertical-align: middle;\n",
       "    }\n",
       "\n",
       "    .dataframe tbody tr th {\n",
       "        vertical-align: top;\n",
       "    }\n",
       "\n",
       "    .dataframe thead th {\n",
       "        text-align: right;\n",
       "    }\n",
       "</style>\n",
       "<table border=\"1\" class=\"dataframe\">\n",
       "  <thead>\n",
       "    <tr style=\"text-align: right;\">\n",
       "      <th></th>\n",
       "      <th>timestamp</th>\n",
       "      <th>customer_no</th>\n",
       "      <th>location</th>\n",
       "      <th>previous_location</th>\n",
       "      <th>min_spent_at_previous</th>\n",
       "      <th>customers_in_store</th>\n",
       "      <th>customers_in_fruit</th>\n",
       "      <th>customers_in_dairy</th>\n",
       "      <th>customers_in_drinks</th>\n",
       "      <th>customers_in_spices</th>\n",
       "    </tr>\n",
       "  </thead>\n",
       "  <tbody>\n",
       "    <tr>\n",
       "      <th>0</th>\n",
       "      <td>2019-09-04 07:00:00</td>\n",
       "      <td>1</td>\n",
       "      <td>fruit</td>\n",
       "      <td>first</td>\n",
       "      <td>0</td>\n",
       "      <td>1</td>\n",
       "      <td>1</td>\n",
       "      <td>0</td>\n",
       "      <td>0</td>\n",
       "      <td>0</td>\n",
       "    </tr>\n",
       "    <tr>\n",
       "      <th>1</th>\n",
       "      <td>2019-09-04 07:00:00</td>\n",
       "      <td>2</td>\n",
       "      <td>dairy</td>\n",
       "      <td>first</td>\n",
       "      <td>0</td>\n",
       "      <td>2</td>\n",
       "      <td>1</td>\n",
       "      <td>1</td>\n",
       "      <td>0</td>\n",
       "      <td>0</td>\n",
       "    </tr>\n",
       "    <tr>\n",
       "      <th>2</th>\n",
       "      <td>2019-09-04 07:00:00</td>\n",
       "      <td>3</td>\n",
       "      <td>fruit</td>\n",
       "      <td>first</td>\n",
       "      <td>0</td>\n",
       "      <td>3</td>\n",
       "      <td>2</td>\n",
       "      <td>1</td>\n",
       "      <td>0</td>\n",
       "      <td>0</td>\n",
       "    </tr>\n",
       "    <tr>\n",
       "      <th>3</th>\n",
       "      <td>2019-09-04 07:00:00</td>\n",
       "      <td>4</td>\n",
       "      <td>fruit</td>\n",
       "      <td>first</td>\n",
       "      <td>0</td>\n",
       "      <td>4</td>\n",
       "      <td>3</td>\n",
       "      <td>1</td>\n",
       "      <td>0</td>\n",
       "      <td>0</td>\n",
       "    </tr>\n",
       "    <tr>\n",
       "      <th>4</th>\n",
       "      <td>2019-09-04 07:00:00</td>\n",
       "      <td>5</td>\n",
       "      <td>dairy</td>\n",
       "      <td>first</td>\n",
       "      <td>0</td>\n",
       "      <td>5</td>\n",
       "      <td>3</td>\n",
       "      <td>2</td>\n",
       "      <td>0</td>\n",
       "      <td>0</td>\n",
       "    </tr>\n",
       "    <tr>\n",
       "      <th>...</th>\n",
       "      <td>...</td>\n",
       "      <td>...</td>\n",
       "      <td>...</td>\n",
       "      <td>...</td>\n",
       "      <td>...</td>\n",
       "      <td>...</td>\n",
       "      <td>...</td>\n",
       "      <td>...</td>\n",
       "      <td>...</td>\n",
       "      <td>...</td>\n",
       "    </tr>\n",
       "    <tr>\n",
       "      <th>5045</th>\n",
       "      <td>2019-09-04 21:48:00</td>\n",
       "      <td>1528</td>\n",
       "      <td>spices</td>\n",
       "      <td>drinks</td>\n",
       "      <td>3</td>\n",
       "      <td>6</td>\n",
       "      <td>2</td>\n",
       "      <td>0</td>\n",
       "      <td>1</td>\n",
       "      <td>3</td>\n",
       "    </tr>\n",
       "    <tr>\n",
       "      <th>5046</th>\n",
       "      <td>2019-09-04 21:49:00</td>\n",
       "      <td>1520</td>\n",
       "      <td>dairy</td>\n",
       "      <td>spices</td>\n",
       "      <td>1</td>\n",
       "      <td>6</td>\n",
       "      <td>2</td>\n",
       "      <td>1</td>\n",
       "      <td>1</td>\n",
       "      <td>2</td>\n",
       "    </tr>\n",
       "    <tr>\n",
       "      <th>5047</th>\n",
       "      <td>2019-09-04 21:49:00</td>\n",
       "      <td>1529</td>\n",
       "      <td>dairy</td>\n",
       "      <td>fruit</td>\n",
       "      <td>2</td>\n",
       "      <td>6</td>\n",
       "      <td>1</td>\n",
       "      <td>2</td>\n",
       "      <td>1</td>\n",
       "      <td>2</td>\n",
       "    </tr>\n",
       "    <tr>\n",
       "      <th>5048</th>\n",
       "      <td>2019-09-04 21:49:00</td>\n",
       "      <td>1530</td>\n",
       "      <td>fruit</td>\n",
       "      <td>spices</td>\n",
       "      <td>2</td>\n",
       "      <td>6</td>\n",
       "      <td>2</td>\n",
       "      <td>2</td>\n",
       "      <td>1</td>\n",
       "      <td>1</td>\n",
       "    </tr>\n",
       "    <tr>\n",
       "      <th>5049</th>\n",
       "      <td>2019-09-04 21:49:00</td>\n",
       "      <td>1531</td>\n",
       "      <td>checkout</td>\n",
       "      <td>drinks</td>\n",
       "      <td>3</td>\n",
       "      <td>5</td>\n",
       "      <td>2</td>\n",
       "      <td>2</td>\n",
       "      <td>0</td>\n",
       "      <td>1</td>\n",
       "    </tr>\n",
       "  </tbody>\n",
       "</table>\n",
       "<p>5050 rows × 10 columns</p>\n",
       "</div>"
      ],
      "text/plain": [
       "               timestamp  customer_no  location previous_location  \\\n",
       "0    2019-09-04 07:00:00            1     fruit             first   \n",
       "1    2019-09-04 07:00:00            2     dairy             first   \n",
       "2    2019-09-04 07:00:00            3     fruit             first   \n",
       "3    2019-09-04 07:00:00            4     fruit             first   \n",
       "4    2019-09-04 07:00:00            5     dairy             first   \n",
       "...                  ...          ...       ...               ...   \n",
       "5045 2019-09-04 21:48:00         1528    spices            drinks   \n",
       "5046 2019-09-04 21:49:00         1520     dairy            spices   \n",
       "5047 2019-09-04 21:49:00         1529     dairy             fruit   \n",
       "5048 2019-09-04 21:49:00         1530     fruit            spices   \n",
       "5049 2019-09-04 21:49:00         1531  checkout            drinks   \n",
       "\n",
       "      min_spent_at_previous  customers_in_store  customers_in_fruit  \\\n",
       "0                         0                   1                   1   \n",
       "1                         0                   2                   1   \n",
       "2                         0                   3                   2   \n",
       "3                         0                   4                   3   \n",
       "4                         0                   5                   3   \n",
       "...                     ...                 ...                 ...   \n",
       "5045                      3                   6                   2   \n",
       "5046                      1                   6                   2   \n",
       "5047                      2                   6                   1   \n",
       "5048                      2                   6                   2   \n",
       "5049                      3                   5                   2   \n",
       "\n",
       "      customers_in_dairy  customers_in_drinks  customers_in_spices  \n",
       "0                      0                    0                    0  \n",
       "1                      1                    0                    0  \n",
       "2                      1                    0                    0  \n",
       "3                      1                    0                    0  \n",
       "4                      2                    0                    0  \n",
       "...                  ...                  ...                  ...  \n",
       "5045                   0                    1                    3  \n",
       "5046                   1                    1                    2  \n",
       "5047                   2                    1                    2  \n",
       "5048                   2                    1                    1  \n",
       "5049                   2                    0                    1  \n",
       "\n",
       "[5050 rows x 10 columns]"
      ]
     },
     "execution_count": 21,
     "metadata": {},
     "output_type": "execute_result"
    }
   ],
   "source": [
    "df3 = add_customer_in_locations_cols(df2)\n",
    "df3"
   ]
  },
  {
   "cell_type": "code",
   "execution_count": 22,
   "metadata": {},
   "outputs": [
    {
     "data": {
      "text/plain": [
       "<matplotlib.axes._subplots.AxesSubplot at 0x1a110d14280>"
      ]
     },
     "execution_count": 22,
     "metadata": {},
     "output_type": "execute_result"
    },
    {
     "data": {
      "image/png": "[encoded data removed]",
      "text/plain": [
       "<Figure size 720x432 with 1 Axes>"
      ]
     },
     "metadata": {
      "needs_background": "light"
     },
     "output_type": "display_data"
    }
   ],
   "source": [
    "df3.set_index('timestamp')[['customers_in_fruit', 'customers_in_dairy', 'customers_in_drinks', 'customers_in_spices']].plot()"
   ]
  },
  {
   "cell_type": "markdown",
   "metadata": {},
   "source": [
    "#### Our business managers think that the first section customers visit follows a different pattern than the following ones. Plot the distribution of customers of their first visited section versus following sections (treat all sections visited after the first as “following”)."
   ]
  },
  {
   "cell_type": "code",
   "execution_count": 23,
   "metadata": {},
   "outputs": [],
   "source": [
    "def barplot_comparing_first_followed(df):\n",
    "    first = df[df['previous_location'] == 'first']['location'].value_counts()\n",
    "    following = df[df['previous_location'] != 'first']['location'].value_counts()\n",
    "    pd.DataFrame(following).join(pd.DataFrame(first), lsuffix='_following', rsuffix='_first').drop('checkout').plot.bar()"
   ]
  },
  {
   "cell_type": "code",
   "execution_count": 24,
   "metadata": {
    "scrolled": false
   },
   "outputs": [
    {
     "data": {
      "image/png": "[encoded data removed]",
      "text/plain": [
       "<Figure size 720x432 with 1 Axes>"
      ]
     },
     "metadata": {
      "needs_background": "light"
     },
     "output_type": "display_data"
    }
   ],
   "source": [
    "barplot_comparing_first_followed(df2)"
   ]
  },
  {
   "cell_type": "code",
   "execution_count": null,
   "metadata": {},
   "outputs": [],
   "source": []
  },
  {
   "cell_type": "code",
   "execution_count": null,
   "metadata": {},
   "outputs": [],
   "source": []
  },
  {
   "cell_type": "code",
   "execution_count": null,
   "metadata": {},
   "outputs": [],
   "source": []
  },
  {
   "cell_type": "code",
   "execution_count": null,
   "metadata": {},
   "outputs": [],
   "source": []
  },
  {
   "cell_type": "code",
   "execution_count": null,
   "metadata": {},
   "outputs": [],
   "source": []
  }
 ],
 "metadata": {
  "kernelspec": {
   "display_name": "Python 3",
   "language": "python",
   "name": "python3"
  },
  "language_info": {
   "codemirror_mode": {
    "name": "ipython",
    "version": 3
   },
   "file_extension": ".py",
   "mimetype": "text/x-python",
   "name": "python",
   "nbconvert_exporter": "python",
   "pygments_lexer": "ipython3",
   "version": "3.8.3"
  }
 },
 "nbformat": 4,
 "nbformat_minor": 4
}
