{
 "cells": [
  {
   "cell_type": "code",
   "execution_count": 40,
   "metadata": {},
   "outputs": [],
   "source": [
    "import pandas as pd\n",
    "import numpy as np\n",
    "import matplotlib.pyplot as plt\n",
    "\n",
    "monday=pd.read_csv('./data/monday.csv', parse_dates=True,index_col=0,sep=';')\n",
    "tuesday=pd.read_csv('./data/tuesday.csv', parse_dates=True,index_col=0,sep=';')\n",
    "wednesday=pd.read_csv('./data/wednesday.csv', parse_dates=True,index_col=0,sep=';')\n",
    "thursday=pd.read_csv('./data/thursday.csv', parse_dates=True,index_col=0,sep=';')\n",
    "friday=pd.read_csv('./data/friday.csv', parse_dates=True,index_col=0,sep=';')"
   ]
  },
  {
   "cell_type": "code",
   "execution_count": 2,
   "metadata": {
    "scrolled": true
   },
   "outputs": [],
   "source": [
    "df=monday.append([tuesday,wednesday,thursday, friday])\n",
    "df['weekday'] = df.index.day_name()\n",
    "df['time']=df.index.time\n",
    "df['customer_no']=df.apply(lambda x:'%s_%s' % (x['customer_no'],x['weekday']),axis=1)"
   ]
  },
  {
   "cell_type": "markdown",
   "metadata": {},
   "source": [
    "#### Initial state vector"
   ]
  },
  {
   "cell_type": "code",
   "execution_count": 3,
   "metadata": {},
   "outputs": [],
   "source": [
    "df['first_location'] = df.duplicated('customer_no')\n",
    "first_location = df[df['first_location'] == False]"
   ]
  },
  {
   "cell_type": "code",
   "execution_count": 4,
   "metadata": {},
   "outputs": [],
   "source": [
    "#number of customers by first location\n",
    "initial_state_count=first_location.groupby('location').count()['customer_no']\n",
    "initial_state_vector=initial_state_count/initial_state_count.sum()"
   ]
  },
  {
   "cell_type": "code",
   "execution_count": 5,
   "metadata": {},
   "outputs": [
    {
     "data": {
      "text/plain": [
       "location\n",
       "dairy     0.287576\n",
       "drinks    0.153526\n",
       "fruit     0.377435\n",
       "spices    0.181464\n",
       "Name: customer_no, dtype: float64"
      ]
     },
     "execution_count": 5,
     "metadata": {},
     "output_type": "execute_result"
    }
   ],
   "source": [
    "initial_state_vector"
   ]
  },
  {
   "cell_type": "markdown",
   "metadata": {},
   "source": [
    "#### Transition probability matrix without resampling"
   ]
  },
  {
   "cell_type": "code",
   "execution_count": 6,
   "metadata": {},
   "outputs": [
    {
     "data": {
      "text/html": [
       "<div>\n",
       "<style scoped>\n",
       "    .dataframe tbody tr th:only-of-type {\n",
       "        vertical-align: middle;\n",
       "    }\n",
       "\n",
       "    .dataframe tbody tr th {\n",
       "        vertical-align: top;\n",
       "    }\n",
       "\n",
       "    .dataframe thead th {\n",
       "        text-align: right;\n",
       "    }\n",
       "</style>\n",
       "<table border=\"1\" class=\"dataframe\">\n",
       "  <thead>\n",
       "    <tr style=\"text-align: right;\">\n",
       "      <th>next</th>\n",
       "      <th>checkout</th>\n",
       "      <th>dairy</th>\n",
       "      <th>drinks</th>\n",
       "      <th>fruit</th>\n",
       "      <th>spices</th>\n",
       "    </tr>\n",
       "    <tr>\n",
       "      <th>location</th>\n",
       "      <th></th>\n",
       "      <th></th>\n",
       "      <th></th>\n",
       "      <th></th>\n",
       "      <th></th>\n",
       "    </tr>\n",
       "  </thead>\n",
       "  <tbody>\n",
       "    <tr>\n",
       "      <th>dairy</th>\n",
       "      <td>0.391211</td>\n",
       "      <td>0.000000</td>\n",
       "      <td>0.223151</td>\n",
       "      <td>0.189925</td>\n",
       "      <td>0.195713</td>\n",
       "    </tr>\n",
       "    <tr>\n",
       "      <th>drinks</th>\n",
       "      <td>0.537023</td>\n",
       "      <td>0.027159</td>\n",
       "      <td>0.000000</td>\n",
       "      <td>0.219062</td>\n",
       "      <td>0.216756</td>\n",
       "    </tr>\n",
       "    <tr>\n",
       "      <th>fruit</th>\n",
       "      <td>0.499511</td>\n",
       "      <td>0.238319</td>\n",
       "      <td>0.136266</td>\n",
       "      <td>0.000000</td>\n",
       "      <td>0.125904</td>\n",
       "    </tr>\n",
       "    <tr>\n",
       "      <th>spices</th>\n",
       "      <td>0.251000</td>\n",
       "      <td>0.323553</td>\n",
       "      <td>0.273140</td>\n",
       "      <td>0.152307</td>\n",
       "      <td>0.000000</td>\n",
       "    </tr>\n",
       "  </tbody>\n",
       "</table>\n",
       "</div>"
      ],
      "text/plain": [
       "next      checkout     dairy    drinks     fruit    spices\n",
       "location                                                  \n",
       "dairy     0.391211  0.000000  0.223151  0.189925  0.195713\n",
       "drinks    0.537023  0.027159  0.000000  0.219062  0.216756\n",
       "fruit     0.499511  0.238319  0.136266  0.000000  0.125904\n",
       "spices    0.251000  0.323553  0.273140  0.152307  0.000000"
      ]
     },
     "execution_count": 6,
     "metadata": {},
     "output_type": "execute_result"
    }
   ],
   "source": [
    "df['next'] = df.groupby(['customer_no'])['location'].shift(-1)\n",
    "trans_prob_matrix = pd.crosstab(df['location'], df['next'], normalize='index')\n",
    "trans_prob_matrix"
   ]
  },
  {
   "cell_type": "code",
   "execution_count": 7,
   "metadata": {},
   "outputs": [
    {
     "data": {
      "text/plain": [
       "array([0.42902996, 0.15283247, 0.16516926, 0.1158878 , 0.1370805 ])"
      ]
     },
     "execution_count": 7,
     "metadata": {},
     "output_type": "execute_result"
    }
   ],
   "source": [
    "np.dot(initial_state_vector,trans_prob_matrix)"
   ]
  },
  {
   "cell_type": "markdown",
   "metadata": {},
   "source": [
    "#### Transition probability matrix with resampling"
   ]
  },
  {
   "cell_type": "code",
   "execution_count": 8,
   "metadata": {},
   "outputs": [],
   "source": [
    "resampled = df.groupby('customer_no')[['location']].resample(rule='60S').ffill()\n",
    "resampled['before'] = resampled['location'].shift(1)"
   ]
  },
  {
   "cell_type": "code",
   "execution_count": 9,
   "metadata": {},
   "outputs": [],
   "source": [
    "#adding entrance locations instead of the locations which were from previous customers due to resampling\n",
    "mask1 = resampled['before'] == 'checkout'  \n",
    "mask2 = resampled['location'] != 'checkout'\n",
    "resampled.loc[mask1 & mask2, 'before'] = np.nan\n",
    "resampled['before'].fillna('entrance', inplace=True)"
   ]
  },
  {
   "cell_type": "code",
   "execution_count": 21,
   "metadata": {},
   "outputs": [
    {
     "data": {
      "text/html": [
       "<div>\n",
       "<style scoped>\n",
       "    .dataframe tbody tr th:only-of-type {\n",
       "        vertical-align: middle;\n",
       "    }\n",
       "\n",
       "    .dataframe tbody tr th {\n",
       "        vertical-align: top;\n",
       "    }\n",
       "\n",
       "    .dataframe thead th {\n",
       "        text-align: right;\n",
       "    }\n",
       "</style>\n",
       "<table border=\"1\" class=\"dataframe\">\n",
       "  <thead>\n",
       "    <tr style=\"text-align: right;\">\n",
       "      <th>location</th>\n",
       "      <th>checkout</th>\n",
       "      <th>dairy</th>\n",
       "      <th>drinks</th>\n",
       "      <th>fruit</th>\n",
       "      <th>spices</th>\n",
       "    </tr>\n",
       "    <tr>\n",
       "      <th>before</th>\n",
       "      <th></th>\n",
       "      <th></th>\n",
       "      <th></th>\n",
       "      <th></th>\n",
       "      <th></th>\n",
       "    </tr>\n",
       "  </thead>\n",
       "  <tbody>\n",
       "    <tr>\n",
       "      <th>dairy</th>\n",
       "      <td>0.246056</td>\n",
       "      <td>0.736919</td>\n",
       "      <td>0.107341</td>\n",
       "      <td>0.070113</td>\n",
       "      <td>0.145906</td>\n",
       "    </tr>\n",
       "    <tr>\n",
       "      <th>drinks</th>\n",
       "      <td>0.282594</td>\n",
       "      <td>0.005964</td>\n",
       "      <td>0.598602</td>\n",
       "      <td>0.067359</td>\n",
       "      <td>0.134756</td>\n",
       "    </tr>\n",
       "    <tr>\n",
       "      <th>entrance</th>\n",
       "      <td>0.000000</td>\n",
       "      <td>0.120176</td>\n",
       "      <td>0.116903</td>\n",
       "      <td>0.220255</td>\n",
       "      <td>0.214240</td>\n",
       "    </tr>\n",
       "    <tr>\n",
       "      <th>fruit</th>\n",
       "      <td>0.344479</td>\n",
       "      <td>0.068696</td>\n",
       "      <td>0.071869</td>\n",
       "      <td>0.597025</td>\n",
       "      <td>0.102899</td>\n",
       "    </tr>\n",
       "    <tr>\n",
       "      <th>spices</th>\n",
       "      <td>0.126871</td>\n",
       "      <td>0.068246</td>\n",
       "      <td>0.105285</td>\n",
       "      <td>0.045247</td>\n",
       "      <td>0.402198</td>\n",
       "    </tr>\n",
       "  </tbody>\n",
       "</table>\n",
       "</div>"
      ],
      "text/plain": [
       "location  checkout     dairy    drinks     fruit    spices\n",
       "before                                                    \n",
       "dairy     0.246056  0.736919  0.107341  0.070113  0.145906\n",
       "drinks    0.282594  0.005964  0.598602  0.067359  0.134756\n",
       "entrance  0.000000  0.120176  0.116903  0.220255  0.214240\n",
       "fruit     0.344479  0.068696  0.071869  0.597025  0.102899\n",
       "spices    0.126871  0.068246  0.105285  0.045247  0.402198"
      ]
     },
     "execution_count": 21,
     "metadata": {},
     "output_type": "execute_result"
    }
   ],
   "source": [
    "TM = pd.crosstab(resampled['before'], resampled['location'], normalize=1)\n",
    "TM"
   ]
  },
  {
   "cell_type": "markdown",
   "metadata": {},
   "source": [
    "#### Number of people not getting to checkout\n",
    "* number of customers - number of times customers went through checkout point "
   ]
  },
  {
   "cell_type": "code",
   "execution_count": 11,
   "metadata": {},
   "outputs": [
    {
     "data": {
      "text/plain": [
       "28"
      ]
     },
     "execution_count": 11,
     "metadata": {},
     "output_type": "execute_result"
    }
   ],
   "source": [
    "locations = df.groupby('location')['customer_no'].count()\n",
    "len(df['customer_no'].unique()) - locations.iloc[0]"
   ]
  },
  {
   "cell_type": "markdown",
   "metadata": {},
   "source": [
    "### MC Simulation\n",
    "- use your transition probability matrix to propagate the states of an idealized population\n",
    "- assume that there are infinite customers, so you can consider a state distribution"
   ]
  },
  {
   "cell_type": "code",
   "execution_count": 31,
   "metadata": {},
   "outputs": [
    {
     "data": {
      "text/html": [
       "<div>\n",
       "<style scoped>\n",
       "    .dataframe tbody tr th:only-of-type {\n",
       "        vertical-align: middle;\n",
       "    }\n",
       "\n",
       "    .dataframe tbody tr th {\n",
       "        vertical-align: top;\n",
       "    }\n",
       "\n",
       "    .dataframe thead th {\n",
       "        text-align: right;\n",
       "    }\n",
       "</style>\n",
       "<table border=\"1\" class=\"dataframe\">\n",
       "  <thead>\n",
       "    <tr style=\"text-align: right;\">\n",
       "      <th></th>\n",
       "      <th>probability</th>\n",
       "    </tr>\n",
       "    <tr>\n",
       "      <th>location</th>\n",
       "      <th></th>\n",
       "    </tr>\n",
       "  </thead>\n",
       "  <tbody>\n",
       "    <tr>\n",
       "      <th>dairy</th>\n",
       "      <td>0.0</td>\n",
       "    </tr>\n",
       "    <tr>\n",
       "      <th>drinks</th>\n",
       "      <td>0.0</td>\n",
       "    </tr>\n",
       "    <tr>\n",
       "      <th>entrance</th>\n",
       "      <td>0.0</td>\n",
       "    </tr>\n",
       "    <tr>\n",
       "      <th>fruit</th>\n",
       "      <td>0.0</td>\n",
       "    </tr>\n",
       "    <tr>\n",
       "      <th>spices</th>\n",
       "      <td>1.0</td>\n",
       "    </tr>\n",
       "  </tbody>\n",
       "</table>\n",
       "</div>"
      ],
      "text/plain": [
       "          probability\n",
       "location             \n",
       "dairy             0.0\n",
       "drinks            0.0\n",
       "entrance          0.0\n",
       "fruit             0.0\n",
       "spices            1.0"
      ]
     },
     "execution_count": 31,
     "metadata": {},
     "output_type": "execute_result"
    }
   ],
   "source": [
    "#Set an initial state distribution vector with all customers in the entrance. \n",
    "#Store the state distribution in a result object (list, DataFrame or similar).\n",
    "initial_state= pd.DataFrame({'probability':[0.0, 0.0, 0.0, 0.0, 1.0], \n",
    "                             'location': ['dairy','drinks','entrance','fruit','spices']})\n",
    "initial_state.set_index('location',inplace=True)\n",
    "initial_state"
   ]
  },
  {
   "cell_type": "code",
   "execution_count": 32,
   "metadata": {},
   "outputs": [
    {
     "data": {
      "text/html": [
       "<div>\n",
       "<style scoped>\n",
       "    .dataframe tbody tr th:only-of-type {\n",
       "        vertical-align: middle;\n",
       "    }\n",
       "\n",
       "    .dataframe tbody tr th {\n",
       "        vertical-align: top;\n",
       "    }\n",
       "\n",
       "    .dataframe thead th {\n",
       "        text-align: right;\n",
       "    }\n",
       "</style>\n",
       "<table border=\"1\" class=\"dataframe\">\n",
       "  <thead>\n",
       "    <tr style=\"text-align: right;\">\n",
       "      <th>location</th>\n",
       "      <th>checkout</th>\n",
       "      <th>dairy</th>\n",
       "      <th>drinks</th>\n",
       "      <th>fruit</th>\n",
       "      <th>spices</th>\n",
       "    </tr>\n",
       "    <tr>\n",
       "      <th>before</th>\n",
       "      <th></th>\n",
       "      <th></th>\n",
       "      <th></th>\n",
       "      <th></th>\n",
       "      <th></th>\n",
       "    </tr>\n",
       "  </thead>\n",
       "  <tbody>\n",
       "    <tr>\n",
       "      <th>dairy</th>\n",
       "      <td>0.246056</td>\n",
       "      <td>0.736919</td>\n",
       "      <td>0.107341</td>\n",
       "      <td>0.070113</td>\n",
       "      <td>0.145906</td>\n",
       "    </tr>\n",
       "    <tr>\n",
       "      <th>drinks</th>\n",
       "      <td>0.282594</td>\n",
       "      <td>0.005964</td>\n",
       "      <td>0.598602</td>\n",
       "      <td>0.067359</td>\n",
       "      <td>0.134756</td>\n",
       "    </tr>\n",
       "    <tr>\n",
       "      <th>entrance</th>\n",
       "      <td>0.000000</td>\n",
       "      <td>0.120176</td>\n",
       "      <td>0.116903</td>\n",
       "      <td>0.220255</td>\n",
       "      <td>0.214240</td>\n",
       "    </tr>\n",
       "    <tr>\n",
       "      <th>fruit</th>\n",
       "      <td>0.344479</td>\n",
       "      <td>0.068696</td>\n",
       "      <td>0.071869</td>\n",
       "      <td>0.597025</td>\n",
       "      <td>0.102899</td>\n",
       "    </tr>\n",
       "    <tr>\n",
       "      <th>spices</th>\n",
       "      <td>0.126871</td>\n",
       "      <td>0.068246</td>\n",
       "      <td>0.105285</td>\n",
       "      <td>0.045247</td>\n",
       "      <td>0.402198</td>\n",
       "    </tr>\n",
       "  </tbody>\n",
       "</table>\n",
       "</div>"
      ],
      "text/plain": [
       "location  checkout     dairy    drinks     fruit    spices\n",
       "before                                                    \n",
       "dairy     0.246056  0.736919  0.107341  0.070113  0.145906\n",
       "drinks    0.282594  0.005964  0.598602  0.067359  0.134756\n",
       "entrance  0.000000  0.120176  0.116903  0.220255  0.214240\n",
       "fruit     0.344479  0.068696  0.071869  0.597025  0.102899\n",
       "spices    0.126871  0.068246  0.105285  0.045247  0.402198"
      ]
     },
     "execution_count": 32,
     "metadata": {},
     "output_type": "execute_result"
    }
   ],
   "source": [
    "TM"
   ]
  },
  {
   "cell_type": "code",
   "execution_count": 34,
   "metadata": {},
   "outputs": [
    {
     "data": {
      "text/plain": [
       "array([[0.14590634],\n",
       "       [0.13475629],\n",
       "       [0.2142402 ],\n",
       "       [0.10289901],\n",
       "       [0.40219815]])"
      ]
     },
     "execution_count": 34,
     "metadata": {},
     "output_type": "execute_result"
    }
   ],
   "source": [
    "#Calculate the next state as a dot product of your transition probability matrix P\n",
    "np.dot(TM,initial_state)"
   ]
  },
  {
   "cell_type": "code",
   "execution_count": 38,
   "metadata": {},
   "outputs": [],
   "source": [
    "#Repeat from 2 for a number of steps\n",
    "next_steps=np.dot(TM,np.dot(TM,np.dot(TM,initial_state)))"
   ]
  },
  {
   "cell_type": "code",
   "execution_count": null,
   "metadata": {},
   "outputs": [],
   "source": []
  }
 ],
 "metadata": {
  "kernelspec": {
   "display_name": "Python 3",
   "language": "python",
   "name": "python3"
  },
  "language_info": {
   "codemirror_mode": {
    "name": "ipython",
    "version": 3
   },
   "file_extension": ".py",
   "mimetype": "text/x-python",
   "name": "python",
   "nbconvert_exporter": "python",
   "pygments_lexer": "ipython3",
   "version": "3.8.3"
  }
 },
 "nbformat": 4,
 "nbformat_minor": 4
}
