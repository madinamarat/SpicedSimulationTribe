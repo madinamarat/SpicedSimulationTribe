{
 "cells": [
  {
   "cell_type": "code",
   "execution_count": 66,
   "metadata": {},
   "outputs": [],
   "source": [
    "from PIL import Image\n",
    "import numpy as np\n",
    "\n",
    "img = Image.open('./data/tiles.png')\n",
    "market = np.array(img)"
   ]
  },
  {
   "cell_type": "code",
   "execution_count": 45,
   "metadata": {},
   "outputs": [],
   "source": [
    "fish1=Image.fromarray(market[4 * 32:4 * 32+32, 15 * 32:15 * 32+32])\n",
    "fish2=Image.fromarray(market[5 * 32:5 * 32+32, 15 * 32:15 * 32+32])\n",
    "fish3=Image.fromarray(market[6 * 32:6 * 32+32, 15 * 32:15 * 32+32])\n",
    "fish4=Image.fromarray(market[7 * 32:7 * 32+32, 15 * 32:15 * 32+32])"
   ]
  },
  {
   "cell_type": "code",
   "execution_count": 63,
   "metadata": {
    "scrolled": true
   },
   "outputs": [],
   "source": [
    "pacman1=Image.fromarray(market[3 * 32:3 * 32+32, 0 * 32:0 * 32+32])\n",
    "pacman2=Image.fromarray(market[4 * 32:4 * 32+32, 0 * 32:0 * 32+32])\n",
    "pacman3=Image.fromarray(market[5 * 32:5 * 32+32, 0 * 32:0 * 32+32])\n",
    "pacman4=Image.fromarray(market[6 * 32:6 * 32+32, 0 * 32:0 * 32+32])\n",
    "pacman5=Image.fromarray(market[3 * 32:3 * 32+32, 1 * 32:1 * 32+32])\n",
    "pacman6=Image.fromarray(market[4 * 32:4 * 32+32, 1 * 32:1 * 32+32])\n",
    "pacman7=Image.fromarray(market[5 * 32:5 * 32+32, 1 * 32:1 * 32+32])\n",
    "pacman8=Image.fromarray(market[6 * 32:6 * 32+32, 1 * 32:1 * 32+32])\n",
    "pacman9=Image.fromarray(market[3 * 32:3 * 32+32, 2 * 32:2 * 32+32])\n",
    "pacman10=Image.fromarray(market[4 * 32:4 * 32+32, 2 * 32:2 * 32+32])\n",
    "pacman11=Image.fromarray(market[5 * 32:5 * 32+32, 2 * 32:2 * 32+32])\n",
    "pacman12=Image.fromarray(market[6 * 32:6 * 32+32, 2 * 32:2 * 32+32])\n",
    "ghost=Image.fromarray(market[7 * 32:7 * 32+32, 0 * 32:0 * 32+32])"
   ]
  }
 ],
 "metadata": {
  "kernelspec": {
   "display_name": "Python 3",
   "language": "python",
   "name": "python3"
  },
  "language_info": {
   "codemirror_mode": {
    "name": "ipython",
    "version": 3
   },
   "file_extension": ".py",
   "mimetype": "text/x-python",
   "name": "python",
   "nbconvert_exporter": "python",
   "pygments_lexer": "ipython3",
   "version": "3.8.3"
  }
 },
 "nbformat": 4,
 "nbformat_minor": 4
}
